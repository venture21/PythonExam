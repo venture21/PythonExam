{
 "cells": [
  {
   "cell_type": "code",
   "execution_count": 0,
   "metadata": {
    "colab": {},
    "colab_type": "code",
    "id": "9SD28QkJxmcw"
   },
   "outputs": [],
   "source": [
    "import numpy as np\n",
    "a = np.arange(15).reshape(3,5)"
   ]
  },
  {
   "cell_type": "code",
   "execution_count": null,
   "metadata": {},
   "outputs": [],
   "source": []
  },
  {
   "cell_type": "code",
   "execution_count": 0,
   "metadata": {
    "colab": {},
    "colab_type": "code",
    "id": "2_EJF5tNzygH"
   },
   "outputs": [],
   "source": [
    "print(a)"
   ]
  },
  {
   "cell_type": "code",
   "execution_count": 0,
   "metadata": {
    "colab": {},
    "colab_type": "code",
    "id": "RqZDA35EzzwA"
   },
   "outputs": [],
   "source": [
    "print('a.shape:',a.shape)"
   ]
  },
  {
   "cell_type": "code",
   "execution_count": 0,
   "metadata": {
    "colab": {},
    "colab_type": "code",
    "id": "vGJ-Bl9P0aIK"
   },
   "outputs": [],
   "source": [
    "print('a.ndim:',a.ndim)"
   ]
  },
  {
   "cell_type": "code",
   "execution_count": 0,
   "metadata": {
    "colab": {},
    "colab_type": "code",
    "id": "XnrlslYo0ofq"
   },
   "outputs": [],
   "source": [
    "b = np.arange(15)"
   ]
  },
  {
   "cell_type": "code",
   "execution_count": 0,
   "metadata": {
    "colab": {},
    "colab_type": "code",
    "id": "VHtjYB5k0tEq"
   },
   "outputs": [],
   "source": [
    "print('a.ndim:',b.ndim)"
   ]
  },
  {
   "cell_type": "code",
   "execution_count": 0,
   "metadata": {
    "colab": {},
    "colab_type": "code",
    "id": "0iHcSvjX0vJ5"
   },
   "outputs": [],
   "source": [
    "print('a.dtype.name:', a.dtype.name)"
   ]
  },
  {
   "cell_type": "code",
   "execution_count": 0,
   "metadata": {
    "colab": {},
    "colab_type": "code",
    "id": "fcR0C7MI058m"
   },
   "outputs": [],
   "source": [
    "print('a.itemsize:', a.itemsize)"
   ]
  },
  {
   "cell_type": "code",
   "execution_count": 0,
   "metadata": {
    "colab": {},
    "colab_type": "code",
    "id": "PauC1n9-2EJF"
   },
   "outputs": [],
   "source": [
    "print('a.size:',a.size)"
   ]
  },
  {
   "cell_type": "code",
   "execution_count": 0,
   "metadata": {
    "colab": {},
    "colab_type": "code",
    "id": "2hDD55ST2P1i"
   },
   "outputs": [],
   "source": [
    "print('type(a):',type(a))"
   ]
  },
  {
   "cell_type": "markdown",
   "metadata": {
    "colab_type": "text",
    "id": "4cSLzsWI5ywr"
   },
   "source": [
    "###**Numpy 어레이 만들기**"
   ]
  },
  {
   "cell_type": "code",
   "execution_count": 0,
   "metadata": {
    "colab": {},
    "colab_type": "code",
    "id": "2s9yN9hU2bJr"
   },
   "outputs": [],
   "source": [
    "#np.array()\n",
    "import numpy as np\n",
    "temp = [2,3,4]\n",
    "a = np.array(temp)\n",
    "print(a)\n",
    "print(temp)"
   ]
  },
  {
   "cell_type": "code",
   "execution_count": 0,
   "metadata": {
    "colab": {},
    "colab_type": "code",
    "id": "aZJ51UXo7D4T"
   },
   "outputs": [],
   "source": [
    "print(type(a))\n",
    "print(type(temp))"
   ]
  },
  {
   "cell_type": "code",
   "execution_count": 0,
   "metadata": {
    "colab": {},
    "colab_type": "code",
    "id": "W3sYh2ku7Ity"
   },
   "outputs": [],
   "source": [
    "print('a.ndim:',a.ndim)\n",
    "print('a.dtype',a.dtype)"
   ]
  },
  {
   "cell_type": "code",
   "execution_count": 0,
   "metadata": {
    "colab": {},
    "colab_type": "code",
    "id": "96FXTV_w7PUa"
   },
   "outputs": [],
   "source": [
    "temp2=[1.2, 3.5, 5.1]\n",
    "b = np.array(temp2)\n",
    "print(b.dtype)"
   ]
  },
  {
   "cell_type": "code",
   "execution_count": 0,
   "metadata": {
    "colab": {},
    "colab_type": "code",
    "id": "fPy9N4vl8HgE"
   },
   "outputs": [],
   "source": [
    "import numpy as np\n",
    "\n",
    "c = np.array([(1.5,2,3),(4,5,6)]) \n",
    "print(c)"
   ]
  },
  {
   "cell_type": "code",
   "execution_count": 0,
   "metadata": {
    "colab": {},
    "colab_type": "code",
    "id": "qaurOlSB81g9"
   },
   "outputs": [],
   "source": [
    "import numpy as np\n",
    "\n",
    "d = np.array([[1,2],[3,4]], dtype=complex)\n",
    "print(d)"
   ]
  },
  {
   "cell_type": "markdown",
   "metadata": {
    "colab_type": "text",
    "id": "pDPIaTwi-hso"
   },
   "source": [
    "### **np.zeros(), np.ones(), np.empty()**"
   ]
  },
  {
   "cell_type": "code",
   "execution_count": 0,
   "metadata": {
    "colab": {},
    "colab_type": "code",
    "id": "mnqkcqqs9NYK"
   },
   "outputs": [],
   "source": [
    "import numpy as np\n",
    "\n",
    "a = np.zeros((480,640))\n",
    "b = np.ones((8,8), dtype=np.int8)*255\n",
    "f = np.empty((2,3))\n",
    "print(a)\n",
    "print(b)\n",
    "print(f)"
   ]
  },
  {
   "cell_type": "markdown",
   "metadata": {
    "colab_type": "text",
    "id": "hT3OKzQfBDGH"
   },
   "source": [
    "### **np.arange()**"
   ]
  },
  {
   "cell_type": "code",
   "execution_count": 0,
   "metadata": {
    "colab": {},
    "colab_type": "code",
    "id": "B9kSn5hD_Jaz"
   },
   "outputs": [],
   "source": [
    "import numpy as np\n",
    "\n",
    "a = np.arange(10, 40, 5)\n",
    "b = np.arange(0, 2, 0.3)\n",
    "print(a)\n",
    "print(b)"
   ]
  },
  {
   "cell_type": "code",
   "execution_count": 0,
   "metadata": {
    "colab": {},
    "colab_type": "code",
    "id": "UlTTWRYPBVgz"
   },
   "outputs": [],
   "source": [
    "import numpy as np\n",
    "\n",
    "a = np.arange(12).reshape(4,3)    # 2d array\n",
    "b = np.arange(24).reshape(2,3,4)  # 3d array\n",
    "\n",
    "print(a)\n",
    "print(b)"
   ]
  },
  {
   "cell_type": "code",
   "execution_count": 0,
   "metadata": {
    "colab": {},
    "colab_type": "code",
    "id": "RcDwMwSrCRjc"
   },
   "outputs": [],
   "source": [
    "import numpy as np\n",
    "import sys\n",
    "a = np.arange(10000).reshape(100,100)    # 2d array\n",
    "np.set_printoptions(threshold=sys.maxsize)\n",
    "print(sys.maxsize)\n",
    "print(a)"
   ]
  },
  {
   "cell_type": "markdown",
   "metadata": {
    "colab_type": "text",
    "id": "44Y64ZTPUb3R"
   },
   "source": [
    "### **numpy array의 산술연산**"
   ]
  },
  {
   "cell_type": "code",
   "execution_count": 0,
   "metadata": {
    "colab": {},
    "colab_type": "code",
    "id": "mT5rrFWlClbT"
   },
   "outputs": [],
   "source": [
    "import numpy as np\n",
    "\n",
    "a = np.array([20,30,40,50])\n",
    "b = np.arange(4)\n",
    "\n",
    "print(a)\n",
    "print(b)\n",
    "\n",
    "c = a - b\n",
    "print(c)"
   ]
  },
  {
   "cell_type": "code",
   "execution_count": 0,
   "metadata": {
    "colab": {},
    "colab_type": "code",
    "id": "wLC_8L6rU5Fq"
   },
   "outputs": [],
   "source": [
    "import numpy as np\n",
    "a = np.array([20,30,40,50])\n",
    "b = np.arange(4)\n",
    "print(b**2)\n",
    "\n",
    "for i in range(0, 3, 1):\n",
    "  print(np.sin(i))"
   ]
  },
  {
   "cell_type": "markdown",
   "metadata": {
    "colab_type": "text",
    "id": "dX-MQkWOZaXo"
   },
   "source": [
    "### **numpy array 곱셈연산, 행렬곱 연산**"
   ]
  },
  {
   "cell_type": "code",
   "execution_count": 0,
   "metadata": {
    "colab": {},
    "colab_type": "code",
    "id": "dehOtrsMVwgj"
   },
   "outputs": [],
   "source": [
    "import numpy as np\n",
    "\n",
    "a = np.array([[1,1],[0,1]])\n",
    "b = np.array([[2,0],[3,4]])\n",
    "\n",
    "print(a*b)         # elementwise product     \n",
    "print(a@b)         # matrix product\n",
    "print(a.dot(b))    # another matrix product             "
   ]
  },
  {
   "cell_type": "code",
   "execution_count": 0,
   "metadata": {
    "colab": {},
    "colab_type": "code",
    "id": "8ZW1-6NVZu0C"
   },
   "outputs": [],
   "source": [
    "import numpy as np\n",
    "a = np.ones((2,3), dtype=int)\n",
    "b = np.random.random((2,3)) \n",
    "# a = a*3\n",
    "a *= 3\n",
    "print(a)\n",
    "print(b)\n",
    "\n",
    "b+=a\n",
    "print(b)"
   ]
  },
  {
   "cell_type": "markdown",
   "metadata": {
    "colab_type": "text",
    "id": "NDlRJjzhclb3"
   },
   "source": [
    "### 단항연산 : sum(), min(), max()"
   ]
  },
  {
   "cell_type": "code",
   "execution_count": 0,
   "metadata": {
    "colab": {},
    "colab_type": "code",
    "id": "dc7sBJgCbHn0"
   },
   "outputs": [],
   "source": [
    "import numpy as np\n",
    "\n",
    "temp = [1,2,3,4]\n",
    "a = np.array(temp)\n",
    "print(a.sum())\n",
    "print(a.min())\n",
    "print(a.max())"
   ]
  },
  {
   "cell_type": "markdown",
   "metadata": {
    "colab_type": "text",
    "id": "8ZWTaee_dgfO"
   },
   "source": [
    "### **특정 축에 대해 연산 적용**"
   ]
  },
  {
   "cell_type": "code",
   "execution_count": 0,
   "metadata": {
    "colab": {},
    "colab_type": "code",
    "id": "wU_m5Kxwc5Qk"
   },
   "outputs": [],
   "source": [
    "import numpy as np\n",
    "\n",
    "b = np.arange(12).reshape(3,4)\n",
    "print(b)\n",
    "print(b.sum()) \n",
    "print(b.sum(axis=0))   # sum of each row\n",
    "print(b.sum(axis=1))   # sum of each column\n",
    "print(b.cumsum(axis=1)) #cumulative sum along each row"
   ]
  },
  {
   "cell_type": "markdown",
   "metadata": {
    "colab_type": "text",
    "id": "NFllYW0RlWCx"
   },
   "source": [
    "### **Numpy 범용함수**"
   ]
  },
  {
   "cell_type": "code",
   "execution_count": 0,
   "metadata": {
    "colab": {},
    "colab_type": "code",
    "id": "9hGbujUad0nP"
   },
   "outputs": [],
   "source": [
    "import numpy as np\n",
    "B = np.arange(3)\n",
    "print(B)\n",
    "print(np.exp(B))\n",
    "print(np.sqrt(B))\n",
    "\n",
    "C = np.array([2., -1., 4.])\n",
    "#B +=C\n",
    "print(np.add(B,C))\n",
    "\n",
    "#add(), subtract(), multiply(), sin(), cos()\n"
   ]
  },
  {
   "cell_type": "markdown",
   "metadata": {
    "colab_type": "text",
    "id": "EZdSsWmqmrNw"
   },
   "source": [
    "### **Numpy index / slicing / iterate**"
   ]
  },
  {
   "cell_type": "code",
   "execution_count": 0,
   "metadata": {
    "colab": {},
    "colab_type": "code",
    "id": "uiKIZb3WldxS"
   },
   "outputs": [],
   "source": [
    "#index : ndarray중에 하나를 선택\n",
    "\n",
    "import numpy as np\n",
    "a =np.arange(10)**2\n",
    "print(a)\n",
    "print(a[2])\n",
    "print(a[-2])"
   ]
  },
  {
   "cell_type": "code",
   "execution_count": 0,
   "metadata": {
    "colab": {},
    "colab_type": "code",
    "id": "tSFX6n-gm8gy"
   },
   "outputs": [],
   "source": [
    "# slicing : 파이썬과 동일하게 어레이를 slicing할 수 있다.\n",
    "import numpy as np\n",
    "a =np.arange(10)**2\n",
    "print(a[2:5])\n",
    "print(a[:4:2])\n",
    "print(a[::-1])  # reversed array"
   ]
  },
  {
   "cell_type": "markdown",
   "metadata": {
    "colab_type": "text",
    "id": "Emcj1gsqoYoB"
   },
   "source": [
    "### **Iterating**"
   ]
  },
  {
   "cell_type": "code",
   "execution_count": 0,
   "metadata": {
    "colab": {},
    "colab_type": "code",
    "id": "xQUMOKc_n4rq"
   },
   "outputs": [],
   "source": [
    "import numpy as np\n",
    "\n",
    "a = np.arange(10)**2\n",
    "print(a)\n",
    "\n",
    "#Iterating\n",
    "for i in a:\n",
    "  print(i*2)"
   ]
  },
  {
   "cell_type": "code",
   "execution_count": 0,
   "metadata": {
    "colab": {},
    "colab_type": "code",
    "id": "s05fnemeovht"
   },
   "outputs": [],
   "source": [
    "import numpy as np\n",
    "\n",
    "def f(x,y):\n",
    "  return x+y\n",
    "\n",
    "b = np.fromfunction(f, (5,4), dtype=int)\n",
    "\n",
    "print(b)\n",
    "print(b[2,3])  #index\n",
    "print(b[:,1])\n",
    "print(b[1:3,:])  \n"
   ]
  },
  {
   "cell_type": "code",
   "execution_count": 0,
   "metadata": {
    "colab": {},
    "colab_type": "code",
    "id": "EoaDqWGl0A-i"
   },
   "outputs": [],
   "source": [
    "print(b[-1])"
   ]
  },
  {
   "cell_type": "code",
   "execution_count": 0,
   "metadata": {
    "colab": {},
    "colab_type": "code",
    "id": "1tKi_pqK1Dm5"
   },
   "outputs": [],
   "source": [
    "print(b[-1,:])"
   ]
  },
  {
   "cell_type": "code",
   "execution_count": 0,
   "metadata": {
    "colab": {},
    "colab_type": "code",
    "id": "Ry_erVvX1NUa"
   },
   "outputs": [],
   "source": [
    "for i in b.flat:\n",
    "  print(i)"
   ]
  },
  {
   "cell_type": "code",
   "execution_count": 0,
   "metadata": {
    "colab": {},
    "colab_type": "code",
    "id": "Z4LxboEn1npa"
   },
   "outputs": [],
   "source": [
    "import numpy as np\n",
    "b = np.arange(48).reshape(2,2,3,4)  # 4d array\n",
    "for i in b.flat:\n",
    "  print(i)"
   ]
  },
  {
   "cell_type": "markdown",
   "metadata": {
    "colab_type": "text",
    "id": "iJn0e6x12_Eg"
   },
   "source": [
    "### **numpy array의 형태를 바꾸기**"
   ]
  },
  {
   "cell_type": "code",
   "execution_count": 0,
   "metadata": {
    "colab": {},
    "colab_type": "code",
    "id": "uNGNbAAn2ILK"
   },
   "outputs": [],
   "source": [
    "import numpy as np\n",
    "b = np.arange(12).reshape(3,4)\n",
    "print(b)\n",
    "print(b.shape)"
   ]
  },
  {
   "cell_type": "code",
   "execution_count": 0,
   "metadata": {
    "colab": {},
    "colab_type": "code",
    "id": "eoGqucgU3RIk"
   },
   "outputs": [],
   "source": [
    "print(b.ravel())  # 1차원으로 펼쳐진 어레이를 반환한다."
   ]
  },
  {
   "cell_type": "code",
   "execution_count": 0,
   "metadata": {
    "colab": {},
    "colab_type": "code",
    "id": "ChWnXHQq3b7R"
   },
   "outputs": [],
   "source": [
    "#reshape : 새로운 형태를 갖는 어레이를 반환한다.\n",
    "print(b.reshape(6,2))"
   ]
  },
  {
   "cell_type": "code",
   "execution_count": 0,
   "metadata": {
    "colab": {},
    "colab_type": "code",
    "id": "Sou0GNVe3vE9"
   },
   "outputs": [],
   "source": [
    "#전치행렬(transposed) 어레이를 반환한다.\n",
    "print(b.T)"
   ]
  },
  {
   "cell_type": "markdown",
   "metadata": {
    "colab_type": "text",
    "id": "sOBB_v7_4cmv"
   },
   "source": [
    "### **올림함수(ceiling), 내림함수(floor)**"
   ]
  },
  {
   "cell_type": "code",
   "execution_count": 0,
   "metadata": {
    "colab": {},
    "colab_type": "code",
    "id": "ZbBYcflj4Kxq"
   },
   "outputs": [],
   "source": [
    "import numpy as np\n",
    "\n",
    "a = np.array([-1.7, -1.5, -0.2, 0.2, 1.5, 1.7, 2.0])\n",
    "print(np.floor(a))"
   ]
  },
  {
   "cell_type": "code",
   "execution_count": 0,
   "metadata": {
    "colab": {},
    "colab_type": "code",
    "id": "MwNNpABw48N5"
   },
   "outputs": [],
   "source": [
    "import numpy as np\n",
    "\n",
    "a = np.array([-1.7, -1.5, -0.2, 0.2, 1.5, 1.7, 2.0])\n",
    "print(np.ceil(a))"
   ]
  },
  {
   "cell_type": "code",
   "execution_count": 0,
   "metadata": {
    "colab": {},
    "colab_type": "code",
    "id": "4Gg9yP_y5Gj3"
   },
   "outputs": [],
   "source": [
    "import numpy as np\n",
    "\n",
    "a = np.array([-1.7, -1.4, -0.2, 0.2, 1.4, 1.7, 2.0])\n",
    "print(np.around(a))"
   ]
  },
  {
   "cell_type": "code",
   "execution_count": 0,
   "metadata": {
    "colab": {},
    "colab_type": "code",
    "id": "Dc-6OlLz5WdC"
   },
   "outputs": [],
   "source": [
    "import numpy as np\n",
    "\n",
    "a = np.array([-1.7, -1.4, -0.2, 0.2, 1.4, 1.7, 2.0])\n",
    "print(np.amax(a))\n",
    "print(np.amin(a))"
   ]
  },
  {
   "cell_type": "code",
   "execution_count": 0,
   "metadata": {
    "colab": {},
    "colab_type": "code",
    "id": "PpOMKmMB5obS"
   },
   "outputs": [],
   "source": [
    "#argmax는 ndarray안에 있는 값이 아닌 인덱스 값을 출력한다.\n",
    "print(np.argmax(a))\n",
    "print(np.argmin(a))"
   ]
  },
  {
   "cell_type": "code",
   "execution_count": 0,
   "metadata": {
    "colab": {},
    "colab_type": "code",
    "id": "EqWoU7Ps556S"
   },
   "outputs": [],
   "source": []
  }
 ],
 "metadata": {
  "colab": {
   "collapsed_sections": [],
   "name": "PythonEx1.ipynb",
   "private_outputs": true,
   "provenance": []
  },
  "kernelspec": {
   "display_name": "Python 3",
   "language": "python",
   "name": "python3"
  },
  "language_info": {
   "codemirror_mode": {
    "name": "ipython",
    "version": 3
   },
   "file_extension": ".py",
   "mimetype": "text/x-python",
   "name": "python",
   "nbconvert_exporter": "python",
   "pygments_lexer": "ipython3",
   "version": "3.6.10"
  }
 },
 "nbformat": 4,
 "nbformat_minor": 1
}
