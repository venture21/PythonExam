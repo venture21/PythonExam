{
 "cells": [
  {
   "cell_type": "code",
   "execution_count": 1,
   "metadata": {},
   "outputs": [
    {
     "data": {
      "text/plain": [
       "'2.1.0'"
      ]
     },
     "execution_count": 1,
     "metadata": {},
     "output_type": "execute_result"
    }
   ],
   "source": [
    "import tensorflow as tf\n",
    "tf.__version__"
   ]
  },
  {
   "cell_type": "code",
   "execution_count": 2,
   "metadata": {},
   "outputs": [
    {
     "name": "stdout",
     "output_type": "stream",
     "text": [
      "Thu Mar 05 02:02:37 2020       \n",
      "+-----------------------------------------------------------------------------+\n",
      "| NVIDIA-SMI 441.87       Driver Version: 441.87       CUDA Version: 10.2     |\n",
      "|-------------------------------+----------------------+----------------------+\n",
      "| GPU  Name            TCC/WDDM | Bus-Id        Disp.A | Volatile Uncorr. ECC |\n",
      "| Fan  Temp  Perf  Pwr:Usage/Cap|         Memory-Usage | GPU-Util  Compute M. |\n",
      "|===============================+======================+======================|\n",
      "|   0  GeForce RTX 208... WDDM  | 00000000:01:00.0  On |                  N/A |\n",
      "|  0%   38C    P8     9W / 260W |    931MiB / 11264MiB |      1%      Default |\n",
      "+-------------------------------+----------------------+----------------------+\n",
      "|   1  GeForce RTX 208... WDDM  | 00000000:02:00.0 Off |                  N/A |\n",
      "|  0%   35C    P8     1W / 260W |    215MiB / 11264MiB |      0%      Default |\n",
      "+-------------------------------+----------------------+----------------------+\n",
      "                                                                               \n",
      "+-----------------------------------------------------------------------------+\n",
      "| Processes:                                                       GPU Memory |\n",
      "|  GPU       PID   Type   Process name                             Usage      |\n",
      "|=============================================================================|\n",
      "|    0      1244    C+G   Insufficient Permissions                   N/A      |\n",
      "|    0      1292    C+G   C:\\Windows\\System32\\MicrosoftEdgeCP.exe    N/A      |\n",
      "|    0      2452    C+G   ....133.0_x64__8wekyb3d8bbwe\\YourPhone.exe N/A      |\n",
      "|    0      2936    C+G   ...x64__8wekyb3d8bbwe\\Microsoft.Photos.exe N/A      |\n",
      "|    0      4108    C+G   C:\\Windows\\explorer.exe                    N/A      |\n",
      "|    0      5968    C+G   ...hell.Experiences.TextInput.InputApp.exe N/A      |\n",
      "|    0      7368    C+G   ...5n1h2txyewy\\StartMenuExperienceHost.exe N/A      |\n",
      "|    0      7420    C+G   ...6)\\Google\\Chrome\\Application\\chrome.exe N/A      |\n",
      "|    0      7908    C+G   ...dows.Cortana_cw5n1h2txyewy\\SearchUI.exe N/A      |\n",
      "|    0      8656    C+G   C:\\Windows\\System32\\MicrosoftEdgeCP.exe    N/A      |\n",
      "|    0      9096    C+G   ...6.102.0_x64__kzf8qxf38zg5c\\SkypeApp.exe N/A      |\n",
      "|    0      9116    C+G   ...tHubDesktop\\app-2.3.1\\GitHubDesktop.exe N/A      |\n",
      "|    0      9388    C+G   ...osoft.LockApp_cw5n1h2txyewy\\LockApp.exe N/A      |\n",
      "|    0     10516    C+G   C:\\Windows\\System32\\MicrosoftEdgeCP.exe    N/A      |\n",
      "|    0     10608    C+G   ...oftEdge_8wekyb3d8bbwe\\MicrosoftEdge.exe N/A      |\n",
      "|    0     11168    C+G   ...1.0_x64__8wekyb3d8bbwe\\WinStore.App.exe N/A      |\n",
      "|    0     11344    C+G   ...t_cw5n1h2txyewy\\ShellExperienceHost.exe N/A      |\n",
      "|    0     12720    C+G   C:\\Windows\\System32\\MicrosoftEdgeCP.exe    N/A      |\n",
      "|    0     13936    C+G   ...al\\Binaries\\Win64\\EpicGamesLauncher.exe N/A      |\n",
      "|    0     14220    C+G   ...pple\\Internet Services\\iCloudPhotos.exe N/A      |\n",
      "|    0     14256    C+G   C:\\Windows\\System32\\MicrosoftEdgeCP.exe    N/A      |\n",
      "|    0     14600    C+G   C:\\Windows\\System32\\MicrosoftEdgeCP.exe    N/A      |\n",
      "|    0     14680    C+G   ...\\Binaries\\Win64\\UnrealCEFSubProcess.exe N/A      |\n",
      "|    0     14816    C+G   ...mmersiveControlPanel\\SystemSettings.exe N/A      |\n",
      "|    0     15600    C+G   ... Companion\\Application\\WebCompanion.exe N/A      |\n",
      "|    0     15916    C+G   ...Screen Control\\bin\\OnScreen Control.exe N/A      |\n",
      "+-----------------------------------------------------------------------------+\n"
     ]
    }
   ],
   "source": [
    "!nvidia-smi"
   ]
  },
  {
   "cell_type": "code",
   "execution_count": 3,
   "metadata": {},
   "outputs": [
    {
     "name": "stdout",
     "output_type": "stream",
     "text": [
      "b'Hello, TensorFlow!'\n"
     ]
    }
   ],
   "source": [
    "hello = tf.constant('Hello, TensorFlow!')\n",
    "print(hello.numpy())"
   ]
  },
  {
   "cell_type": "code",
   "execution_count": 4,
   "metadata": {},
   "outputs": [
    {
     "name": "stdout",
     "output_type": "stream",
     "text": [
      "42\n"
     ]
    }
   ],
   "source": [
    "a = tf.constant(10)\n",
    "b = tf.constant(32)\n",
    "\n",
    "print((a + b).numpy())"
   ]
  },
  {
   "cell_type": "code",
   "execution_count": null,
   "metadata": {},
   "outputs": [],
   "source": []
  }
 ],
 "metadata": {
  "kernelspec": {
   "display_name": "Python 3",
   "language": "python",
   "name": "python3"
  },
  "language_info": {
   "codemirror_mode": {
    "name": "ipython",
    "version": 3
   },
   "file_extension": ".py",
   "mimetype": "text/x-python",
   "name": "python",
   "nbconvert_exporter": "python",
   "pygments_lexer": "ipython3",
   "version": "3.6.10"
  }
 },
 "nbformat": 4,
 "nbformat_minor": 4
}
