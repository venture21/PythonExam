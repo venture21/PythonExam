{
 "cells": [
  {
   "cell_type": "markdown",
   "metadata": {},
   "source": [
    "### Tensorflow 1.x 코드\n",
    "~~~\n",
    "import tensorflow as tf\n",
    "\n",
    "# 플레이스홀더 노드와 add 노드를 정의합니다.\n",
    "a = tf.placeholder(tf.float32)\n",
    "b = tf.placeholder(tf.float32)\n",
    "\n",
    "adder_node = a + b  # 암시적으로 tf.add(a, b) 형태로 정의될 것입니다.\n",
    "\n",
    "# 세션을 열고 그래프를 실행합니다.\n",
    "sess = tf.Session()\n",
    "\n",
    "print(sess.run(adder_node, feed_dict={a: 3, b: 4.5}))\n",
    "print(sess.run(adder_node, feed_dict={a: [1, 3], b: [2, 4]}))\n",
    "\n",
    "# 노드를 추가해서 더 복잡한 그래프 형태를 만들어봅시다.\n",
    "# 출력값 : 22.5\n",
    "add_and_triple = adder_node * 3\t# 암시적으로 tf.multiply(adder_node,3) 형태로 정의될 것입니다.\n",
    "print(sess.run(add_and_triple, feed_dict={a: 3, b: 4.5}))\n",
    "\n",
    "sess.close()\n",
    "~~~"
   ]
  },
  {
   "cell_type": "markdown",
   "metadata": {},
   "source": [
    "#### Tensorflow 2.x에서는 placeholder가 없어지고 세션을 생성하고 종료하는 과정이 없어졌다."
   ]
  },
  {
   "cell_type": "code",
   "execution_count": 1,
   "metadata": {},
   "outputs": [],
   "source": [
    "import tensorflow as tf\n",
    "import numpy as np"
   ]
  },
  {
   "cell_type": "code",
   "execution_count": 2,
   "metadata": {},
   "outputs": [],
   "source": [
    "# 2개의 값을 더하는 function을 정의합니다.\n",
    "@tf.function\n",
    "def add_two_values(x, y):\n",
    "  return x + y"
   ]
  },
  {
   "cell_type": "code",
   "execution_count": 3,
   "metadata": {},
   "outputs": [
    {
     "name": "stdout",
     "output_type": "stream",
     "text": [
      "7.5\n",
      "[3 7]\n"
     ]
    }
   ],
   "source": [
    "# 그래프를 실행합니다.\n",
    "print(add_two_values(3, 4.5).numpy())\n",
    "print(add_two_values(np.array([1, 3]), np.array([2, 4])).numpy())"
   ]
  },
  {
   "cell_type": "code",
   "execution_count": 4,
   "metadata": {},
   "outputs": [],
   "source": [
    "# 노드를 추가해서 더 복잡한 그래프 형태를 만들어봅시다.\n",
    "@tf.function\n",
    "def add_two_values_and_multiply_three(x, y):\n",
    "  return 3 * add_two_values(x, y)"
   ]
  },
  {
   "cell_type": "code",
   "execution_count": 5,
   "metadata": {},
   "outputs": [
    {
     "name": "stdout",
     "output_type": "stream",
     "text": [
      "22.5\n"
     ]
    }
   ],
   "source": [
    "# 출력값 : 22.5\n",
    "print(add_two_values_and_multiply_three(3, 4.5).numpy())"
   ]
  }
 ],
 "metadata": {
  "kernelspec": {
   "display_name": "Python 3",
   "language": "python",
   "name": "python3"
  },
  "language_info": {
   "codemirror_mode": {
    "name": "ipython",
    "version": 3
   },
   "file_extension": ".py",
   "mimetype": "text/x-python",
   "name": "python",
   "nbconvert_exporter": "python",
   "pygments_lexer": "ipython3",
   "version": "3.6.10"
  }
 },
 "nbformat": 4,
 "nbformat_minor": 4
}
