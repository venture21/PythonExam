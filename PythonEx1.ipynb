{
  "nbformat": 4,
  "nbformat_minor": 0,
  "metadata": {
    "colab": {
      "name": "PythonEx1.ipynb",
      "provenance": [],
      "private_outputs": true,
      "collapsed_sections": []
    },
    "kernelspec": {
      "name": "python3",
      "display_name": "Python 3"
    }
  },
  "cells": [
    {
      "cell_type": "code",
      "metadata": {
        "id": "9SD28QkJxmcw",
        "colab_type": "code",
        "colab": {}
      },
      "source": [
        "import numpy as np\n",
        "a = np.arange(15).reshape(3,5)"
      ],
      "execution_count": 0,
      "outputs": []
    },
    {
      "cell_type": "code",
      "metadata": {
        "id": "2_EJF5tNzygH",
        "colab_type": "code",
        "colab": {}
      },
      "source": [
        "print(a)"
      ],
      "execution_count": 0,
      "outputs": []
    },
    {
      "cell_type": "code",
      "metadata": {
        "id": "RqZDA35EzzwA",
        "colab_type": "code",
        "colab": {}
      },
      "source": [
        "print('a.shape:',a.shape)"
      ],
      "execution_count": 0,
      "outputs": []
    },
    {
      "cell_type": "code",
      "metadata": {
        "id": "vGJ-Bl9P0aIK",
        "colab_type": "code",
        "colab": {}
      },
      "source": [
        "print('a.ndim:',a.ndim)"
      ],
      "execution_count": 0,
      "outputs": []
    },
    {
      "cell_type": "code",
      "metadata": {
        "id": "XnrlslYo0ofq",
        "colab_type": "code",
        "colab": {}
      },
      "source": [
        "b = np.arange(15)"
      ],
      "execution_count": 0,
      "outputs": []
    },
    {
      "cell_type": "code",
      "metadata": {
        "id": "VHtjYB5k0tEq",
        "colab_type": "code",
        "colab": {}
      },
      "source": [
        "print('a.ndim:',b.ndim)"
      ],
      "execution_count": 0,
      "outputs": []
    },
    {
      "cell_type": "code",
      "metadata": {
        "id": "0iHcSvjX0vJ5",
        "colab_type": "code",
        "colab": {}
      },
      "source": [
        "print('a.dtype.name:', a.dtype.name)"
      ],
      "execution_count": 0,
      "outputs": []
    },
    {
      "cell_type": "code",
      "metadata": {
        "id": "fcR0C7MI058m",
        "colab_type": "code",
        "colab": {}
      },
      "source": [
        "print('a.itemsize:', a.itemsize)"
      ],
      "execution_count": 0,
      "outputs": []
    },
    {
      "cell_type": "code",
      "metadata": {
        "id": "PauC1n9-2EJF",
        "colab_type": "code",
        "colab": {}
      },
      "source": [
        "print('a.size:',a.size)"
      ],
      "execution_count": 0,
      "outputs": []
    },
    {
      "cell_type": "code",
      "metadata": {
        "id": "2hDD55ST2P1i",
        "colab_type": "code",
        "colab": {}
      },
      "source": [
        "print('type(a):',type(a))"
      ],
      "execution_count": 0,
      "outputs": []
    },
    {
      "cell_type": "markdown",
      "metadata": {
        "id": "4cSLzsWI5ywr",
        "colab_type": "text"
      },
      "source": [
        "###**Numpy 어레이 만들기**"
      ]
    },
    {
      "cell_type": "code",
      "metadata": {
        "id": "2s9yN9hU2bJr",
        "colab_type": "code",
        "colab": {}
      },
      "source": [
        "#np.array()\n",
        "import numpy as np\n",
        "temp = [2,3,4]\n",
        "a = np.array(temp)\n",
        "print(a)\n",
        "print(temp)"
      ],
      "execution_count": 0,
      "outputs": []
    },
    {
      "cell_type": "code",
      "metadata": {
        "id": "aZJ51UXo7D4T",
        "colab_type": "code",
        "colab": {}
      },
      "source": [
        "print(type(a))\n",
        "print(type(temp))"
      ],
      "execution_count": 0,
      "outputs": []
    },
    {
      "cell_type": "code",
      "metadata": {
        "id": "W3sYh2ku7Ity",
        "colab_type": "code",
        "colab": {}
      },
      "source": [
        "print('a.ndim:',a.ndim)\n",
        "print('a.dtype',a.dtype)"
      ],
      "execution_count": 0,
      "outputs": []
    },
    {
      "cell_type": "code",
      "metadata": {
        "id": "96FXTV_w7PUa",
        "colab_type": "code",
        "colab": {}
      },
      "source": [
        "temp2=[1.2, 3.5, 5.1]\n",
        "b = np.array(temp2)\n",
        "print(b.dtype)"
      ],
      "execution_count": 0,
      "outputs": []
    },
    {
      "cell_type": "code",
      "metadata": {
        "id": "fPy9N4vl8HgE",
        "colab_type": "code",
        "colab": {}
      },
      "source": [
        "import numpy as np\n",
        "\n",
        "c = np.array([(1.5,2,3),(4,5,6)]) \n",
        "print(c)"
      ],
      "execution_count": 0,
      "outputs": []
    },
    {
      "cell_type": "code",
      "metadata": {
        "id": "qaurOlSB81g9",
        "colab_type": "code",
        "colab": {}
      },
      "source": [
        "import numpy as np\n",
        "\n",
        "d = np.array([[1,2],[3,4]], dtype=complex)\n",
        "print(d)"
      ],
      "execution_count": 0,
      "outputs": []
    },
    {
      "cell_type": "markdown",
      "metadata": {
        "id": "pDPIaTwi-hso",
        "colab_type": "text"
      },
      "source": [
        "### **np.zeros(), np.ones(), np.empty()**"
      ]
    },
    {
      "cell_type": "code",
      "metadata": {
        "id": "mnqkcqqs9NYK",
        "colab_type": "code",
        "colab": {}
      },
      "source": [
        "import numpy as np\n",
        "\n",
        "a = np.zeros((480,640))\n",
        "b = np.ones((8,8), dtype=np.int8)*255\n",
        "f = np.empty((2,3))\n",
        "print(a)\n",
        "print(b)\n",
        "print(f)"
      ],
      "execution_count": 0,
      "outputs": []
    },
    {
      "cell_type": "markdown",
      "metadata": {
        "id": "hT3OKzQfBDGH",
        "colab_type": "text"
      },
      "source": [
        "### **np.arange()**"
      ]
    },
    {
      "cell_type": "code",
      "metadata": {
        "id": "B9kSn5hD_Jaz",
        "colab_type": "code",
        "colab": {}
      },
      "source": [
        "import numpy as np\n",
        "\n",
        "a = np.arange(10, 40, 5)\n",
        "b = np.arange(0, 2, 0.3)\n",
        "print(a)\n",
        "print(b)"
      ],
      "execution_count": 0,
      "outputs": []
    },
    {
      "cell_type": "code",
      "metadata": {
        "id": "UlTTWRYPBVgz",
        "colab_type": "code",
        "colab": {}
      },
      "source": [
        "import numpy as np\n",
        "\n",
        "a = np.arange(12).reshape(4,3)    # 2d array\n",
        "b = np.arange(24).reshape(2,3,4)  # 3d array\n",
        "\n",
        "print(a)\n",
        "print(b)"
      ],
      "execution_count": 0,
      "outputs": []
    },
    {
      "cell_type": "code",
      "metadata": {
        "id": "RcDwMwSrCRjc",
        "colab_type": "code",
        "colab": {}
      },
      "source": [
        "import numpy as np\n",
        "import sys\n",
        "a = np.arange(10000).reshape(100,100)    # 2d array\n",
        "np.set_printoptions(threshold=sys.maxsize)\n",
        "print(sys.maxsize)\n",
        "print(a)"
      ],
      "execution_count": 0,
      "outputs": []
    },
    {
      "cell_type": "markdown",
      "metadata": {
        "id": "44Y64ZTPUb3R",
        "colab_type": "text"
      },
      "source": [
        "### **numpy array의 산술연산**"
      ]
    },
    {
      "cell_type": "code",
      "metadata": {
        "id": "mT5rrFWlClbT",
        "colab_type": "code",
        "colab": {}
      },
      "source": [
        "import numpy as np\n",
        "\n",
        "a = np.array([20,30,40,50])\n",
        "b = np.arange(4)\n",
        "\n",
        "print(a)\n",
        "print(b)\n",
        "\n",
        "c = a - b\n",
        "print(c)"
      ],
      "execution_count": 0,
      "outputs": []
    },
    {
      "cell_type": "code",
      "metadata": {
        "id": "wLC_8L6rU5Fq",
        "colab_type": "code",
        "colab": {}
      },
      "source": [
        "import numpy as np\n",
        "a = np.array([20,30,40,50])\n",
        "b = np.arange(4)\n",
        "print(b**2)\n",
        "\n",
        "for i in range(0, 3, 1):\n",
        "  print(np.sin(i))"
      ],
      "execution_count": 0,
      "outputs": []
    },
    {
      "cell_type": "markdown",
      "metadata": {
        "id": "dX-MQkWOZaXo",
        "colab_type": "text"
      },
      "source": [
        "### **numpy array 곱셈연산, 행렬곱 연산**"
      ]
    },
    {
      "cell_type": "code",
      "metadata": {
        "id": "dehOtrsMVwgj",
        "colab_type": "code",
        "colab": {}
      },
      "source": [
        "import numpy as np\n",
        "\n",
        "a = np.array([[1,1],[0,1]])\n",
        "b = np.array([[2,0],[3,4]])\n",
        "\n",
        "print(a*b)         # elementwise product     \n",
        "print(a@b)         # matrix product\n",
        "print(a.dot(b))    # another matrix product             "
      ],
      "execution_count": 0,
      "outputs": []
    },
    {
      "cell_type": "code",
      "metadata": {
        "id": "8ZW1-6NVZu0C",
        "colab_type": "code",
        "colab": {}
      },
      "source": [
        "import numpy as np\n",
        "a = np.ones((2,3), dtype=int)\n",
        "b = np.random.random((2,3)) \n",
        "# a = a*3\n",
        "a *= 3\n",
        "print(a)\n",
        "print(b)\n",
        "\n",
        "b+=a\n",
        "print(b)"
      ],
      "execution_count": 0,
      "outputs": []
    },
    {
      "cell_type": "markdown",
      "metadata": {
        "id": "NDlRJjzhclb3",
        "colab_type": "text"
      },
      "source": [
        "### 단항연산 : sum(), min(), max()"
      ]
    },
    {
      "cell_type": "code",
      "metadata": {
        "id": "dc7sBJgCbHn0",
        "colab_type": "code",
        "colab": {}
      },
      "source": [
        "import numpy as np\n",
        "\n",
        "temp = [1,2,3,4]\n",
        "a = np.array(temp)\n",
        "print(a.sum())\n",
        "print(a.min())\n",
        "print(a.max())"
      ],
      "execution_count": 0,
      "outputs": []
    },
    {
      "cell_type": "markdown",
      "metadata": {
        "id": "8ZWTaee_dgfO",
        "colab_type": "text"
      },
      "source": [
        "### **특정 축에 대해 연산 적용**"
      ]
    },
    {
      "cell_type": "code",
      "metadata": {
        "id": "wU_m5Kxwc5Qk",
        "colab_type": "code",
        "colab": {}
      },
      "source": [
        "import numpy as np\n",
        "\n",
        "b = np.arange(12).reshape(3,4)\n",
        "print(b)\n",
        "print(b.sum()) \n",
        "print(b.sum(axis=0))   # sum of each row\n",
        "print(b.sum(axis=1))   # sum of each column\n",
        "print(b.cumsum(axis=1)) #cumulative sum along each row"
      ],
      "execution_count": 0,
      "outputs": []
    },
    {
      "cell_type": "markdown",
      "metadata": {
        "id": "NFllYW0RlWCx",
        "colab_type": "text"
      },
      "source": [
        "### **Numpy 범용함수**"
      ]
    },
    {
      "cell_type": "code",
      "metadata": {
        "id": "9hGbujUad0nP",
        "colab_type": "code",
        "colab": {}
      },
      "source": [
        "import numpy as np\n",
        "B = np.arange(3)\n",
        "print(B)\n",
        "print(np.exp(B))\n",
        "print(np.sqrt(B))\n",
        "\n",
        "C = np.array([2., -1., 4.])\n",
        "#B +=C\n",
        "print(np.add(B,C))\n",
        "\n",
        "#add(), subtract(), multiply(), sin(), cos()\n"
      ],
      "execution_count": 0,
      "outputs": []
    },
    {
      "cell_type": "markdown",
      "metadata": {
        "id": "EZdSsWmqmrNw",
        "colab_type": "text"
      },
      "source": [
        "### **Numpy index / slicing / iterate**"
      ]
    },
    {
      "cell_type": "code",
      "metadata": {
        "id": "uiKIZb3WldxS",
        "colab_type": "code",
        "colab": {}
      },
      "source": [
        "#index : ndarray중에 하나를 선택\n",
        "\n",
        "import numpy as np\n",
        "a =np.arange(10)**2\n",
        "print(a)\n",
        "print(a[2])\n",
        "print(a[-2])"
      ],
      "execution_count": 0,
      "outputs": []
    },
    {
      "cell_type": "code",
      "metadata": {
        "id": "tSFX6n-gm8gy",
        "colab_type": "code",
        "colab": {}
      },
      "source": [
        "# slicing : 파이썬과 동일하게 어레이를 slicing할 수 있다.\n",
        "import numpy as np\n",
        "a =np.arange(10)**2\n",
        "print(a[2:5])\n",
        "print(a[:4:2])\n",
        "print(a[::-1])  # reversed array"
      ],
      "execution_count": 0,
      "outputs": []
    },
    {
      "cell_type": "markdown",
      "metadata": {
        "id": "Emcj1gsqoYoB",
        "colab_type": "text"
      },
      "source": [
        "### **Iterating**"
      ]
    },
    {
      "cell_type": "code",
      "metadata": {
        "id": "xQUMOKc_n4rq",
        "colab_type": "code",
        "colab": {}
      },
      "source": [
        "import numpy as np\n",
        "\n",
        "a = np.arange(10)**2\n",
        "print(a)\n",
        "\n",
        "#Iterating\n",
        "for i in a:\n",
        "  print(i*2)"
      ],
      "execution_count": 0,
      "outputs": []
    },
    {
      "cell_type": "code",
      "metadata": {
        "id": "s05fnemeovht",
        "colab_type": "code",
        "colab": {}
      },
      "source": [
        "import numpy as np\n",
        "\n",
        "def f(x,y):\n",
        "  return x+y\n",
        "\n",
        "b = np.fromfunction(f, (5,4), dtype=int)\n",
        "\n",
        "print(b)\n",
        "print(b[2,3])  #index\n",
        "print(b[:,1])\n",
        "print(b[1:3,:])  \n"
      ],
      "execution_count": 0,
      "outputs": []
    },
    {
      "cell_type": "code",
      "metadata": {
        "id": "EoaDqWGl0A-i",
        "colab_type": "code",
        "colab": {}
      },
      "source": [
        "print(b[-1])"
      ],
      "execution_count": 0,
      "outputs": []
    },
    {
      "cell_type": "code",
      "metadata": {
        "id": "1tKi_pqK1Dm5",
        "colab_type": "code",
        "colab": {}
      },
      "source": [
        "print(b[-1,:])"
      ],
      "execution_count": 0,
      "outputs": []
    },
    {
      "cell_type": "code",
      "metadata": {
        "id": "Ry_erVvX1NUa",
        "colab_type": "code",
        "colab": {}
      },
      "source": [
        "for i in b.flat:\n",
        "  print(i)"
      ],
      "execution_count": 0,
      "outputs": []
    },
    {
      "cell_type": "code",
      "metadata": {
        "id": "Z4LxboEn1npa",
        "colab_type": "code",
        "colab": {}
      },
      "source": [
        "import numpy as np\n",
        "b = np.arange(48).reshape(2,2,3,4)  # 4d array\n",
        "for i in b.flat:\n",
        "  print(i)"
      ],
      "execution_count": 0,
      "outputs": []
    },
    {
      "cell_type": "markdown",
      "metadata": {
        "id": "iJn0e6x12_Eg",
        "colab_type": "text"
      },
      "source": [
        "### **numpy array의 형태를 바꾸기**"
      ]
    },
    {
      "cell_type": "code",
      "metadata": {
        "id": "uNGNbAAn2ILK",
        "colab_type": "code",
        "colab": {}
      },
      "source": [
        "import numpy as np\n",
        "b = np.arange(12).reshape(3,4)\n",
        "print(b)\n",
        "print(b.shape)"
      ],
      "execution_count": 0,
      "outputs": []
    },
    {
      "cell_type": "code",
      "metadata": {
        "id": "eoGqucgU3RIk",
        "colab_type": "code",
        "colab": {}
      },
      "source": [
        "print(b.ravel())  # 1차원으로 펼쳐진 어레이를 반환한다."
      ],
      "execution_count": 0,
      "outputs": []
    },
    {
      "cell_type": "code",
      "metadata": {
        "id": "ChWnXHQq3b7R",
        "colab_type": "code",
        "colab": {}
      },
      "source": [
        "#reshape : 새로운 형태를 갖는 어레이를 반환한다.\n",
        "print(b.reshape(6,2))"
      ],
      "execution_count": 0,
      "outputs": []
    },
    {
      "cell_type": "code",
      "metadata": {
        "id": "Sou0GNVe3vE9",
        "colab_type": "code",
        "colab": {}
      },
      "source": [
        "#전치행렬(transposed) 어레이를 반환한다.\n",
        "print(b.T)"
      ],
      "execution_count": 0,
      "outputs": []
    },
    {
      "cell_type": "markdown",
      "metadata": {
        "id": "sOBB_v7_4cmv",
        "colab_type": "text"
      },
      "source": [
        "### **올림함수(ceiling), 내림함수(floor)**"
      ]
    },
    {
      "cell_type": "code",
      "metadata": {
        "id": "ZbBYcflj4Kxq",
        "colab_type": "code",
        "colab": {}
      },
      "source": [
        "import numpy as np\n",
        "\n",
        "a = np.array([-1.7, -1.5, -0.2, 0.2, 1.5, 1.7, 2.0])\n",
        "print(np.floor(a))"
      ],
      "execution_count": 0,
      "outputs": []
    },
    {
      "cell_type": "code",
      "metadata": {
        "id": "MwNNpABw48N5",
        "colab_type": "code",
        "colab": {}
      },
      "source": [
        "import numpy as np\n",
        "\n",
        "a = np.array([-1.7, -1.5, -0.2, 0.2, 1.5, 1.7, 2.0])\n",
        "print(np.ceil(a))"
      ],
      "execution_count": 0,
      "outputs": []
    },
    {
      "cell_type": "code",
      "metadata": {
        "id": "4Gg9yP_y5Gj3",
        "colab_type": "code",
        "colab": {}
      },
      "source": [
        "import numpy as np\n",
        "\n",
        "a = np.array([-1.7, -1.4, -0.2, 0.2, 1.4, 1.7, 2.0])\n",
        "print(np.around(a))"
      ],
      "execution_count": 0,
      "outputs": []
    },
    {
      "cell_type": "code",
      "metadata": {
        "id": "Dc-6OlLz5WdC",
        "colab_type": "code",
        "colab": {}
      },
      "source": [
        "import numpy as np\n",
        "\n",
        "a = np.array([-1.7, -1.4, -0.2, 0.2, 1.4, 1.7, 2.0])\n",
        "print(np.amax(a))\n",
        "print(np.amin(a))"
      ],
      "execution_count": 0,
      "outputs": []
    },
    {
      "cell_type": "code",
      "metadata": {
        "id": "PpOMKmMB5obS",
        "colab_type": "code",
        "colab": {}
      },
      "source": [
        "print(np.argmax(a))\n",
        "print(np.argmin(a))"
      ],
      "execution_count": 0,
      "outputs": []
    },
    {
      "cell_type": "code",
      "metadata": {
        "id": "EqWoU7Ps556S",
        "colab_type": "code",
        "colab": {}
      },
      "source": [
        ""
      ],
      "execution_count": 0,
      "outputs": []
    }
  ]
}