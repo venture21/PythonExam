{
  "nbformat": 4,
  "nbformat_minor": 0,
  "metadata": {
    "colab": {
      "name": "cifar10WithCNN.ipynb",
      "provenance": [],
      "private_outputs": true,
      "collapsed_sections": []
    },
    "kernelspec": {
      "name": "python3",
      "display_name": "Python 3"
    },
    "accelerator": "GPU"
  },
  "cells": [
    {
      "cell_type": "code",
      "metadata": {
        "id": "JHN_sMHxl9BT",
        "colab_type": "code",
        "colab": {}
      },
      "source": [
        "import tensorflow as tf\n",
        "import numpy as np\n",
        "import matplotlib.pyplot as plt\n",
        "\n",
        "tf.__version__"
      ],
      "execution_count": 0,
      "outputs": []
    },
    {
      "cell_type": "code",
      "metadata": {
        "id": "_Gh9uW_mkaNY",
        "colab_type": "code",
        "colab": {}
      },
      "source": [
        "#cifar10 데이터셋을 다운로드 받기 위해 keras load_data함수를 import\n",
        "from tensorflow.keras.datasets.cifar10 import load_data\n",
        "\n",
        "#CIFAR10 데이터셋을 다운로드하고 불러온다.\n",
        "(x_train, y_train),(x_test, y_test) = load_data()\n",
        "\n",
        "# train데이터의 이미지 배열과 레이블의 shape을 확인\n",
        "print(x_train.shape)\n",
        "print(y_train.shape)\n",
        "\n",
        "#test데이터의 이미지 배열과 레이블의 shape을 확인\n",
        "print(x_test.shape)\n",
        "print(y_test.shape)"
      ],
      "execution_count": 0,
      "outputs": []
    },
    {
      "cell_type": "code",
      "metadata": {
        "id": "NTskquY65uf8",
        "colab_type": "code",
        "colab": {}
      },
      "source": [
        "plt.figure(figsize=(3, 3))\n",
        "plt.imshow(x_train[4])\n",
        "plt.show()"
      ],
      "execution_count": 0,
      "outputs": []
    },
    {
      "cell_type": "code",
      "metadata": {
        "id": "p1vWANdH7Dx7",
        "colab_type": "code",
        "colab": {}
      },
      "source": [
        "#다음 배치를 읽어오기 위한 next_batch함수를 정의한다.\n",
        "# num갯수 만큼 랜덤한 샘플이미지들과 레이블들을 리턴한다.\n",
        "def next_batch(num, data, labels):\n",
        "  idx = np.arange(0, len(data))\n",
        "  np.random.shuffle(idx)\n",
        "  idx=idx[:num]\n",
        "  data_shuffle=[data[i] for i in idx]\n",
        "  labels_shuffle=[labels[i] for i in idx]\n",
        "\n",
        "  return np.asarray(data_shuffle), np.asarray(labels_shuffle)"
      ],
      "execution_count": 0,
      "outputs": []
    },
    {
      "cell_type": "code",
      "metadata": {
        "id": "FP-BYvv_oPKn",
        "colab_type": "code",
        "colab": {}
      },
      "source": [
        "#CNN모델을 정의한다.\n",
        "def build_CNN_classifier(x):\n",
        "  x_image = x\n",
        "\n",
        "  #1st conv2d\n",
        "  # 5x5 64 filter(channel)\n",
        "  # 32x32x3 -> 32x32x64\n",
        "  W_conv1 = tf.Variable(tf.truncated_normal(shape=[5,5,3,64], stddev=5e-2))\n",
        "  b_conv1 = tf.Variable(tf.constant(0.1, shape=[64]))\n",
        "  h_conv1 = tf.nn.relu(tf.nn.conv2d(x_image, W_conv1,strides=[1,1,1,1],padding='SAME')+b_conv1)\n",
        "\n",
        "  #1st pooling Layer\n",
        "  # 32x32x64 -> 16x16x64\n",
        "  h_pool1 = tf.nn.max_pool(h_conv1, ksize=[1,3,3,1], strides=[1,2,2,1], padding='SAME')\n",
        "\n",
        "  # 2nd conv2d\n",
        "  # 5x5 64 filter(channel)\n",
        "  # 16x16x64 -> 16x16x64\n",
        "  W_conv2 = tf.Variable(tf.truncated_normal(shape=[5,5,64,64], stddev=5e-2))\n",
        "  b_conv2 = tf.Variable(tf.constant(0.1, shape=[64]))\n",
        "  h_conv2 = tf.nn.relu(tf.nn.conv2d(h_pool1, W_conv2,strides=[1,1,1,1],padding='SAME')+b_conv2)\n",
        "\n",
        "  # 2nd pooling Layer\n",
        "  # 16x16x64 -> 8x8x64\n",
        "  h_pool2 = tf.nn.max_pool(h_conv2, ksize=[1,3,3,1], strides=[1,2,2,1], padding='SAME')\n",
        "\n",
        "  # 3rd conv2d\n",
        "  # 3x3 128 filter(channel)\n",
        "  # 8x8x64 -> 8x8x128\n",
        "  W_conv3 = tf.Variable(tf.truncated_normal(shape=[3,3,64,128], stddev=5e-2))\n",
        "  b_conv3 = tf.Variable(tf.constant(0.1, shape=[128]))\n",
        "  h_conv3 = tf.nn.relu(tf.nn.conv2d(h_pool2, W_conv3,strides=[1,1,1,1],padding='SAME')+b_conv3)\n",
        "\n",
        "  # 4th conv2d\n",
        "  # 3x3 128 filter(channel)\n",
        "  # 8x8x128 -> 8x8x128\n",
        "  W_conv4 = tf.Variable(tf.truncated_normal(shape=[3,3,128,128], stddev=5e-2))\n",
        "  b_conv4 = tf.Variable(tf.constant(0.1, shape=[128]))\n",
        "  h_conv4 = tf.nn.relu(tf.nn.conv2d(h_conv3, W_conv4,strides=[1,1,1,1],padding='SAME')+b_conv4)\n",
        "\n",
        "  # 5th conv2d\n",
        "  # 3x3 128 filter(channel)\n",
        "  # 8x8x128 -> 8x8x128\n",
        "  W_conv5 = tf.Variable(tf.truncated_normal(shape=[3,3,128,128], stddev=5e-2))\n",
        "  b_conv5 = tf.Variable(tf.constant(0.1, shape=[128]))\n",
        "  h_conv5 = tf.nn.relu(tf.nn.conv2d(h_conv4, W_conv5,strides=[1,1,1,1],padding='SAME')+b_conv5)\n",
        "\n",
        "  # Fully Connected Layer\n",
        "  # 8x8x128(8192) -> 384 (Features)\n",
        "  W_fc1 = tf.Variable(tf.truncated_normal(shape=[8*8*128, 384], stddev=5e-2))\n",
        "  b_fc1 = tf.Variable(tf.constant(0.1, shape=[384]))\n",
        "\n",
        "  h_conv5_flat = tf.reshape(h_conv5, [-1, 8*8*128])\n",
        "  h_fc1 = tf.nn.relu(tf.matmul(h_conv5_flat, W_fc1)+b_fc1)\n",
        "\n",
        "  # dropout을 구현\n",
        "  h_fc1_drop = tf.nn.dropout(h_fc1, keep_prob)\n",
        "\n",
        "  # 384 -> 10 classes\n",
        "  W_fc2 = tf.Variable(tf.truncated_normal(shape=[384, 10], stddev=5e-2))\n",
        "  b_fc2 = tf.Variable(tf.constant(0.1, shape=[10]))\n",
        "  logits = tf.matmul(h_fc1_drop, W_fc2) + b_fc2\n",
        "  y_pred = tf.nn.softmax(logits)\n",
        "\n",
        "  return y_pred, logits"
      ],
      "execution_count": 0,
      "outputs": []
    },
    {
      "cell_type": "code",
      "metadata": {
        "id": "EyVg7EKt6hRm",
        "colab_type": "code",
        "colab": {}
      },
      "source": [
        "x = tf.placeholder(tf.float32, shape=[None,32,32,3])\n",
        "y = tf.placeholder(tf.float32, shape=[None,10])\n",
        "keep_prob = tf.placeholder(tf.float32)\n",
        "\n",
        "# Parameter\n",
        "learningRate = 1e-3\n",
        "epochs = 10000\n",
        "batchSize = 128\n",
        "displayStep = 100\n",
        "testCount = 10\n",
        "\n",
        "#scalar -> one-hot encoding타입으로 변환\n",
        "y_train_one_hot = tf.squeeze(tf.one_hot(y_train, 10), axis=1)\n",
        "y_test_one_hot  = tf.squeeze(tf.one_hot(y_test,  10), axis=1)\n",
        "\n",
        "y_pred, logits = build_CNN_classifier(x)\n",
        "\n",
        "loss = tf.reduce_mean(tf.nn.softmax_cross_entropy_with_logits_v2(logits=logits, labels=y))\n",
        "train_step = tf.train.RMSPropOptimizer(learningRate).minimize(loss)\n",
        "\n",
        "#학습이 끝나면 모델의 정확도를 확인한다.\n",
        "correct_prediction = tf.equal(tf.argmax(y_pred,1), tf.argmax(y,1))\n",
        "accuracy = tf.reduce_mean(tf.cast(correct_prediction, tf.float32))"
      ],
      "execution_count": 0,
      "outputs": []
    },
    {
      "cell_type": "code",
      "metadata": {
        "id": "_Qao7oS--viW",
        "colab_type": "code",
        "colab": {}
      },
      "source": [
        "with tf.Session() as sess:\n",
        "  sess.run(tf.global_variables_initializer())\n",
        "\n",
        "  # epochs만큼 최적화를 수행한다.\n",
        "  for i in range(epochs):\n",
        "    batch = next_batch(batchSize, x_train, y_train_one_hot.eval())\n",
        "\n",
        "    # Training이 진행되는 중 train의 상태를 확인하기 위해서 Validation을 하는 코드\n",
        "    # 그러므로 keep_prob: 1.0으로 설정해야함.\n",
        "    if i % displayStep==0:\n",
        "      train_accuracy = accuracy.eval(feed_dict={x:batch[0], y:batch[1], keep_prob:1.0})\n",
        "      loss_print = loss.eval(feed_dict={x:batch[0], y:batch[1], keep_prob:1.0})\n",
        "      print(\"Epoch:%d, acuuracy:%f, loss:%f\" %(i,train_accuracy, loss_print))\n",
        "    \n",
        "    #Train을 하는 코드\n",
        "    sess.run(train_step, feed_dict={x:batch[0], y:batch[1], keep_prob:0.8})\n",
        "\n",
        "  #Training이 완료되면 테스트 데이터셋으로 정확도를 측정한다.\n",
        "  test_accuracy=0.0\n",
        "  batchSize = len(x_test) / testCount\n",
        "  for i in range(testCount):\n",
        "    test_batch = next_batch(batchSize, x_test, y_test_one_hot.eval())\n",
        "    test_accuracy = test_accuracy + accuracy.eval(feed_dict={x:test_batch[0], y:test_batch[1], keep_prob:1.0})\n",
        "  test_accuracy = test_accuracy / testCount\n",
        "  print(\"test_accuracy: %f\" % test_accuracy)\n"
      ],
      "execution_count": 0,
      "outputs": []
    },
    {
      "cell_type": "code",
      "metadata": {
        "id": "rFPHBYddJnYm",
        "colab_type": "code",
        "colab": {}
      },
      "source": [
        ""
      ],
      "execution_count": 0,
      "outputs": []
    }
  ]
}